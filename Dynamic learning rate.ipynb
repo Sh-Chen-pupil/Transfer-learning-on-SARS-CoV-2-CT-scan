initial_learning_rate = 0.01
decay_steps = 1.0
decay_rate = 0.05
learning_rate_fn = tf.keras.optimizers.schedules.InverseTimeDecay(
  initial_learning_rate, decay_steps, decay_rate)
